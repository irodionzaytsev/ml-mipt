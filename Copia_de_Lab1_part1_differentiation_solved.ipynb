{
  "nbformat": 4,
  "nbformat_minor": 0,
  "metadata": {
    "kernelspec": {
      "display_name": "Py3 research env",
      "language": "python",
      "name": "py3_research"
    },
    "language_info": {
      "codemirror_mode": {
        "name": "ipython",
        "version": 3
      },
      "file_extension": ".py",
      "mimetype": "text/x-python",
      "name": "python",
      "nbconvert_exporter": "python",
      "pygments_lexer": "ipython3",
      "version": "3.6.7"
    },
    "colab": {
      "name": "Copia de Lab1_part1_differentiation.ipynb",
      "provenance": [],
      "collapsed_sections": [],
      "include_colab_link": true
    }
  },
  "cells": [
    {
      "cell_type": "markdown",
      "metadata": {
        "id": "view-in-github",
        "colab_type": "text"
      },
      "source": [
        "<a href=\"https://colab.research.google.com/github/irodionzaytsev/ml-mipt/blob/basic_s20/Copia_de_Lab1_part1_differentiation_solved.ipynb\" target=\"_parent\"><img src=\"https://colab.research.google.com/assets/colab-badge.svg\" alt=\"Open In Colab\"/></a>"
      ]
    },
    {
      "cell_type": "markdown",
      "metadata": {
        "id": "IyFkGhLIIMKl",
        "colab_type": "text"
      },
      "source": [
        "*Credits: materials from this notebook belong to YSDA [Practical DL](https://github.com/yandexdataschool/Practical_DL) course. Special thanks for making them available online.*"
      ]
    },
    {
      "cell_type": "markdown",
      "metadata": {
        "id": "O3fQNy4RIMKz",
        "colab_type": "text"
      },
      "source": [
        "# Lab assignment №1, part 1\n",
        "\n",
        "This lab assignment consists of several parts. You are supposed to make some transformations, train some models, estimate the quality of the models and explain your results.\n",
        "\n",
        "Several comments:\n",
        "* Don't hesitate to ask questions, it's a good practice.\n",
        "* No private/public sharing, please. The copied assignments will be graded with 0 points.\n",
        "* Blocks of this lab will be graded separately."
      ]
    },
    {
      "cell_type": "markdown",
      "metadata": {
        "id": "Oi0Bvyx_IMK5",
        "colab_type": "text"
      },
      "source": [
        "## Part 1. Matrix differentiation"
      ]
    },
    {
      "cell_type": "markdown",
      "metadata": {
        "id": "aCgqLOFiIMK7",
        "colab_type": "text"
      },
      "source": [
        "Since it easy to google every task please please please try to undestand what's going on. The \"just answer\" thing will be not counted, make sure to present derivation of your solution. It is absolutely OK if you found an answer on web then just exercise in $\\LaTeX$ copying it into here."
      ]
    },
    {
      "cell_type": "markdown",
      "metadata": {
        "id": "qE1EhurMIMK-",
        "colab_type": "text"
      },
      "source": [
        "Useful links: \n",
        "[1](http://www.machinelearning.ru/wiki/images/2/2a/Matrix-Gauss.pdf)\n",
        "[2](http://www.atmos.washington.edu/~dennis/MatrixCalculus.pdf)\n",
        "[3](http://cal.cs.illinois.edu/~johannes/research/matrix%20calculus.pdf)\n",
        "[4](http://research.microsoft.com/en-us/um/people/cmbishop/prml/index.htm)"
      ]
    },
    {
      "cell_type": "markdown",
      "metadata": {
        "id": "NPZuXRpDIMLA",
        "colab_type": "text"
      },
      "source": [
        "## ex. 1"
      ]
    },
    {
      "cell_type": "markdown",
      "metadata": {
        "id": "NcCtwdT3IMLC",
        "colab_type": "text"
      },
      "source": [
        "$$  \n",
        "y = x^Tx,  \\quad x \\in \\mathbb{R}^N \n",
        "$$"
      ]
    },
    {
      "cell_type": "markdown",
      "metadata": {
        "id": "APbDBrQwIMLE",
        "colab_type": "text"
      },
      "source": [
        "$$\n",
        "(\\frac{dy}{dx})_i = \\frac{d}{dx_i}\\sum{x_i^2} = 2x_i\n",
        "$$\n",
        "$$\n",
        "\\frac{dy}{dx} = 2x\n",
        "$$ "
      ]
    },
    {
      "cell_type": "code",
      "metadata": {
        "id": "5Z92qbS8IMLH",
        "colab_type": "code",
        "colab": {}
      },
      "source": [
        ""
      ],
      "execution_count": 0,
      "outputs": []
    },
    {
      "cell_type": "markdown",
      "metadata": {
        "id": "4HEfGwcPIMLR",
        "colab_type": "text"
      },
      "source": [
        "## ex. 2"
      ]
    },
    {
      "cell_type": "markdown",
      "metadata": {
        "id": "l9BLyoVMIMLT",
        "colab_type": "text"
      },
      "source": [
        "$$ y = tr(AB) \\quad A,B \\in \\mathbb{R}^{N \\times N} $$ "
      ]
    },
    {
      "cell_type": "markdown",
      "metadata": {
        "id": "Upgi6orSIMLU",
        "colab_type": "text"
      },
      "source": [
        "$$\n",
        "\\frac{d}{da_{ij}}\\sum{a_{ij}b_{ji}} = b_{ji}\n",
        "$$ \n",
        "$$\n",
        "\\frac{dy}{dA} = B^T\n",
        "$$"
      ]
    },
    {
      "cell_type": "code",
      "metadata": {
        "id": "TOhmzTI4IMLX",
        "colab_type": "code",
        "colab": {}
      },
      "source": [
        ""
      ],
      "execution_count": 0,
      "outputs": []
    },
    {
      "cell_type": "markdown",
      "metadata": {
        "id": "GNTev4EKIMLe",
        "colab_type": "text"
      },
      "source": [
        "## ex. 3"
      ]
    },
    {
      "cell_type": "markdown",
      "metadata": {
        "id": "_-jQPeZ4IMLg",
        "colab_type": "text"
      },
      "source": [
        "$$  \n",
        "y = x^TAc , \\quad A\\in \\mathbb{R}^{N \\times N}, x\\in \\mathbb{R}^{N}, c\\in \\mathbb{R}^{N} \n",
        "$$"
      ]
    },
    {
      "cell_type": "markdown",
      "metadata": {
        "id": "bf8OlB1gIMLi",
        "colab_type": "text"
      },
      "source": [
        "$$\n",
        "\\frac{d}{dx_i}\\sum{x_ia_{ij}c_j} = \\sum{a_{ij}c_j}\n",
        "$$\n",
        "$$\n",
        "\\frac{dy}{dx} = (Ac)^T\n",
        "$$"
      ]
    },
    {
      "cell_type": "markdown",
      "metadata": {
        "id": "rLSMmsQpIMLo",
        "colab_type": "text"
      },
      "source": [
        "$$\n",
        "\\frac{dy}{dA} = \\frac{dx^TAc}{dA} = \\frac{dAcx^T}{dA} = (cx^T)^T = \n",
        " xc^T\n",
        "$$ "
      ]
    },
    {
      "cell_type": "markdown",
      "metadata": {
        "id": "_ZRrsP5ZIMLs",
        "colab_type": "text"
      },
      "source": [
        "Hint for the latter (one of the ways): use *ex. 2* result and the fact \n",
        "$$\n",
        "tr(ABC) = tr (CAB)\n",
        "$$"
      ]
    },
    {
      "cell_type": "code",
      "metadata": {
        "id": "Y-Mh42ukIMLv",
        "colab_type": "code",
        "colab": {}
      },
      "source": [
        ""
      ],
      "execution_count": 0,
      "outputs": []
    },
    {
      "cell_type": "markdown",
      "metadata": {
        "id": "OI7KiI1XIML2",
        "colab_type": "text"
      },
      "source": [
        "## ex. 4"
      ]
    },
    {
      "cell_type": "markdown",
      "metadata": {
        "id": "-hDt1cOSIML5",
        "colab_type": "text"
      },
      "source": [
        "Classic matrix factorization example. Given matrix $X$ you need to find $A$, $S$ to approximate $X$. This can be done by simple gradient descent iteratively alternating $A$ and $S$ updates.\n",
        "$$\n",
        "J = || X - AS ||_F^2  , \\quad A\\in \\mathbb{R}^{N \\times R} , \\quad S\\in \\mathbb{R}^{R \\times M}\n",
        "$$\n",
        "$$\n",
        "\\frac{dJ}{dS} = ? \n",
        "$$\n",
        "\n",
        "You may use one of the following approaches:"
      ]
    },
    {
      "cell_type": "markdown",
      "metadata": {
        "id": "a1lmRFEOIML7",
        "colab_type": "text"
      },
      "source": [
        "#### First approach\n",
        "Using ex.2 and the fact:\n",
        "$$\n",
        "|| X ||_F^2 = tr(XX^T) \n",
        "$$ \n",
        "it is easy to derive gradients (you can find it in one of the refs). \n",
        "$$\n",
        "|| X - AS|| ^ 2 = tr((X-AS)(X-AS)^T = tr(XX^T) - tr(XS^TA^T)-tr(ASX^T) + tr(ASS^TA^T)\n",
        "$$\n",
        "We have:\n",
        "$$\\frac{d}{dA}tr(XS^TA^T) = \\frac{d}{dA}tr(ASX^T) = (SX^T)^T = XS^T\n",
        "$$\n",
        "Similarly,\n",
        "$$\n",
        "\\frac{d}{dA}tr(ASX^T) = XS^T\n",
        "$$\n",
        "Let's calculate $\\frac{d}{dA}tr(ABA^T)$\n",
        "$$\n",
        "\\frac{d}{da_{ij}}tr(ABA^T) = \\frac{d}{da_{ij}}\\sum_{r,s,t}{a_{rs}b_{st}a_{rt}} = \\sum_{t}{b_{jt}a_{it}} + \\sum_{s}{a_{is}b_{sj}}\n",
        "$$\n",
        "Hence, \n",
        "$$\n",
        "\\frac{d}{dA}tr(ABA^T) = AB^T + AB = A(B+B^T)\n",
        "$$\n",
        "Thus\n",
        "$$\n",
        "\\frac{d}{dA}tr(ASS^TA^T) = A(SS^T + S^TS)\n",
        "$$\n",
        "Putting everything together yields\n",
        "$$\n",
        "\\frac{d||J||^2}{dA} =  A(SS^T+S^TS) - 2XS^T\n",
        "$$\n",
        "It now remains to notice, that since matrices within trace can be reordered, we have \n",
        "$$\n",
        "tr((X-AS)(X-AS)^T) = tr(XX^T) - tr(XA^TX^T) - tr(SAX^T) + tr(SAA^TS^T)\n",
        "$$\n",
        "So that \n",
        "$$\n",
        "\\frac{d||J||^2}{dS} = S(AA^T+A^TA) - 2XA^T\n",
        "$$\n",
        "\n",
        "\n"
      ]
    },
    {
      "cell_type": "markdown",
      "metadata": {
        "collapsed": true,
        "id": "O8iW0PYRIML9",
        "colab_type": "text"
      },
      "source": [
        "#### Second approach\n",
        "You can use *slightly different techniques* if they suits you. Take a look at this derivation:\n",
        "<img src=\"https://github.com/ml-mipt/ml-mipt/blob/basic_s20/homeworks_basic/Lab1_ML_pipeline_and_SVM/grad.png?raw=1\">\n",
        "(excerpt from [Handbook of blind source separation, Jutten, page 517](https://books.google.ru/books?id=PTbj03bYH6kC&printsec=frontcover&dq=Handbook+of+Blind+Source+Separation&hl=en&sa=X&ved=0ahUKEwi-q_apiJDLAhULvXIKHVXJDWcQ6AEIHDAA#v=onepage&q=Handbook%20of%20Blind%20Source%20Separation&f=false), open for better picture)."
      ]
    },
    {
      "cell_type": "markdown",
      "metadata": {
        "collapsed": true,
        "id": "bZQ91xtIIML-",
        "colab_type": "text"
      },
      "source": [
        "#### Third approach\n",
        "And finally we can use chain rule! \n",
        "let $ F = AS $ \n",
        "\n",
        "**Find**\n",
        "$$\n",
        "\\frac{dJ}{dF} =  \n",
        "$$ \n",
        "and \n",
        "$$\n",
        "\\frac{dF}{dS} =  \n",
        "$$ \n",
        "(the shape should be $ NM \\times RM )$.\n",
        "\n",
        "Now it is easy do get desired gradients:\n",
        "$$\n",
        "\\frac{dJ}{dS} =  \n",
        "$$ "
      ]
    },
    {
      "cell_type": "code",
      "metadata": {
        "id": "GPKEy29sIMMA",
        "colab_type": "code",
        "colab": {}
      },
      "source": [
        ""
      ],
      "execution_count": 0,
      "outputs": []
    }
  ]
}